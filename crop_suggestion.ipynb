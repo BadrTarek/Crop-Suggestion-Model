{
 "cells": [
  {
   "cell_type": "code",
   "execution_count": 1,
   "id": "1a192667",
   "metadata": {},
   "outputs": [],
   "source": [
    "import pandas as pd\n",
    "import matplotlib.pyplot as plt \n",
    "from sklearn.model_selection import train_test_split\n",
    "from sklearn.ensemble import RandomForestClassifier\n",
    "import seaborn as sns\n",
    "import numpy as np \n",
    "import pickle"
   ]
  },
  {
   "cell_type": "code",
   "execution_count": 2,
   "id": "d1cd5060",
   "metadata": {},
   "outputs": [],
   "source": [
    "DATASET_PATH = r'Crop_recommendation.csv'"
   ]
  },
  {
   "cell_type": "code",
   "execution_count": 3,
   "id": "8a6b7089",
   "metadata": {},
   "outputs": [],
   "source": [
    "dataset = pd.read_csv(DATASET_PATH)"
   ]
  },
  {
   "cell_type": "code",
   "execution_count": 4,
   "id": "101c48e0",
   "metadata": {},
   "outputs": [
    {
     "data": {
      "text/html": [
       "<div>\n",
       "<style scoped>\n",
       "    .dataframe tbody tr th:only-of-type {\n",
       "        vertical-align: middle;\n",
       "    }\n",
       "\n",
       "    .dataframe tbody tr th {\n",
       "        vertical-align: top;\n",
       "    }\n",
       "\n",
       "    .dataframe thead th {\n",
       "        text-align: right;\n",
       "    }\n",
       "</style>\n",
       "<table border=\"1\" class=\"dataframe\">\n",
       "  <thead>\n",
       "    <tr style=\"text-align: right;\">\n",
       "      <th></th>\n",
       "      <th>N</th>\n",
       "      <th>P</th>\n",
       "      <th>K</th>\n",
       "      <th>temperature</th>\n",
       "      <th>humidity</th>\n",
       "      <th>ph</th>\n",
       "      <th>rainfall</th>\n",
       "      <th>label</th>\n",
       "    </tr>\n",
       "  </thead>\n",
       "  <tbody>\n",
       "    <tr>\n",
       "      <th>0</th>\n",
       "      <td>90</td>\n",
       "      <td>42</td>\n",
       "      <td>43</td>\n",
       "      <td>20.879744</td>\n",
       "      <td>82.002744</td>\n",
       "      <td>6.502985</td>\n",
       "      <td>202.935536</td>\n",
       "      <td>rice</td>\n",
       "    </tr>\n",
       "    <tr>\n",
       "      <th>1</th>\n",
       "      <td>85</td>\n",
       "      <td>58</td>\n",
       "      <td>41</td>\n",
       "      <td>21.770462</td>\n",
       "      <td>80.319644</td>\n",
       "      <td>7.038096</td>\n",
       "      <td>226.655537</td>\n",
       "      <td>rice</td>\n",
       "    </tr>\n",
       "    <tr>\n",
       "      <th>2</th>\n",
       "      <td>60</td>\n",
       "      <td>55</td>\n",
       "      <td>44</td>\n",
       "      <td>23.004459</td>\n",
       "      <td>82.320763</td>\n",
       "      <td>7.840207</td>\n",
       "      <td>263.964248</td>\n",
       "      <td>rice</td>\n",
       "    </tr>\n",
       "    <tr>\n",
       "      <th>3</th>\n",
       "      <td>74</td>\n",
       "      <td>35</td>\n",
       "      <td>40</td>\n",
       "      <td>26.491096</td>\n",
       "      <td>80.158363</td>\n",
       "      <td>6.980401</td>\n",
       "      <td>242.864034</td>\n",
       "      <td>rice</td>\n",
       "    </tr>\n",
       "    <tr>\n",
       "      <th>4</th>\n",
       "      <td>78</td>\n",
       "      <td>42</td>\n",
       "      <td>42</td>\n",
       "      <td>20.130175</td>\n",
       "      <td>81.604873</td>\n",
       "      <td>7.628473</td>\n",
       "      <td>262.717340</td>\n",
       "      <td>rice</td>\n",
       "    </tr>\n",
       "    <tr>\n",
       "      <th>5</th>\n",
       "      <td>69</td>\n",
       "      <td>37</td>\n",
       "      <td>42</td>\n",
       "      <td>23.058049</td>\n",
       "      <td>83.370118</td>\n",
       "      <td>7.073454</td>\n",
       "      <td>251.055000</td>\n",
       "      <td>rice</td>\n",
       "    </tr>\n",
       "    <tr>\n",
       "      <th>6</th>\n",
       "      <td>69</td>\n",
       "      <td>55</td>\n",
       "      <td>38</td>\n",
       "      <td>22.708838</td>\n",
       "      <td>82.639414</td>\n",
       "      <td>5.700806</td>\n",
       "      <td>271.324860</td>\n",
       "      <td>rice</td>\n",
       "    </tr>\n",
       "    <tr>\n",
       "      <th>7</th>\n",
       "      <td>94</td>\n",
       "      <td>53</td>\n",
       "      <td>40</td>\n",
       "      <td>20.277744</td>\n",
       "      <td>82.894086</td>\n",
       "      <td>5.718627</td>\n",
       "      <td>241.974195</td>\n",
       "      <td>rice</td>\n",
       "    </tr>\n",
       "    <tr>\n",
       "      <th>8</th>\n",
       "      <td>89</td>\n",
       "      <td>54</td>\n",
       "      <td>38</td>\n",
       "      <td>24.515881</td>\n",
       "      <td>83.535216</td>\n",
       "      <td>6.685346</td>\n",
       "      <td>230.446236</td>\n",
       "      <td>rice</td>\n",
       "    </tr>\n",
       "    <tr>\n",
       "      <th>9</th>\n",
       "      <td>68</td>\n",
       "      <td>58</td>\n",
       "      <td>38</td>\n",
       "      <td>23.223974</td>\n",
       "      <td>83.033227</td>\n",
       "      <td>6.336254</td>\n",
       "      <td>221.209196</td>\n",
       "      <td>rice</td>\n",
       "    </tr>\n",
       "  </tbody>\n",
       "</table>\n",
       "</div>"
      ],
      "text/plain": [
       "    N   P   K  temperature   humidity        ph    rainfall label\n",
       "0  90  42  43    20.879744  82.002744  6.502985  202.935536  rice\n",
       "1  85  58  41    21.770462  80.319644  7.038096  226.655537  rice\n",
       "2  60  55  44    23.004459  82.320763  7.840207  263.964248  rice\n",
       "3  74  35  40    26.491096  80.158363  6.980401  242.864034  rice\n",
       "4  78  42  42    20.130175  81.604873  7.628473  262.717340  rice\n",
       "5  69  37  42    23.058049  83.370118  7.073454  251.055000  rice\n",
       "6  69  55  38    22.708838  82.639414  5.700806  271.324860  rice\n",
       "7  94  53  40    20.277744  82.894086  5.718627  241.974195  rice\n",
       "8  89  54  38    24.515881  83.535216  6.685346  230.446236  rice\n",
       "9  68  58  38    23.223974  83.033227  6.336254  221.209196  rice"
      ]
     },
     "execution_count": 4,
     "metadata": {},
     "output_type": "execute_result"
    }
   ],
   "source": [
    "dataset.head(10)"
   ]
  },
  {
   "cell_type": "code",
   "execution_count": 5,
   "id": "3b64c48f",
   "metadata": {},
   "outputs": [],
   "source": [
    "dataset = dataset.drop(columns = ['N','P','K'])"
   ]
  },
  {
   "cell_type": "code",
   "execution_count": 6,
   "id": "b87fa5a5",
   "metadata": {},
   "outputs": [
    {
     "data": {
      "text/plain": [
       "{'apple',\n",
       " 'banana',\n",
       " 'blackgram',\n",
       " 'chickpea',\n",
       " 'coconut',\n",
       " 'coffee',\n",
       " 'cotton',\n",
       " 'grapes',\n",
       " 'jute',\n",
       " 'kidneybeans',\n",
       " 'lentil',\n",
       " 'maize',\n",
       " 'mango',\n",
       " 'mothbeans',\n",
       " 'mungbean',\n",
       " 'muskmelon',\n",
       " 'orange',\n",
       " 'papaya',\n",
       " 'pigeonpeas',\n",
       " 'pomegranate',\n",
       " 'rice',\n",
       " 'watermelon'}"
      ]
     },
     "execution_count": 6,
     "metadata": {},
     "output_type": "execute_result"
    }
   ],
   "source": [
    "set(dataset.label)"
   ]
  },
  {
   "cell_type": "code",
   "execution_count": 7,
   "id": "183b7618",
   "metadata": {},
   "outputs": [
    {
     "name": "stderr",
     "output_type": "stream",
     "text": [
      "C:\\Users\\badr\\anaconda3\\lib\\site-packages\\seaborn\\_decorators.py:36: FutureWarning: Pass the following variable as a keyword arg: x. From version 0.12, the only valid positional argument will be `data`, and passing other arguments without an explicit keyword will result in an error or misinterpretation.\n",
      "  warnings.warn(\n"
     ]
    },
    {
     "data": {
      "image/png": "[encoded data removed]",
      "text/plain": [
       "<Figure size 1080x360 with 1 Axes>"
      ]
     },
     "metadata": {
      "needs_background": "light"
     },
     "output_type": "display_data"
    }
   ],
   "source": [
    "f= plt.figure(figsize=(15,5))\n",
    "sns.countplot(dataset['label'] , palette = 'Spectral')\n",
    "plt.xticks(rotation=90)\n",
    "plt.show()"
   ]
  },
  {
   "cell_type": "code",
   "execution_count": 9,
   "id": "a3f9e3b0",
   "metadata": {},
   "outputs": [],
   "source": [
    "X = dataset.drop(['label'], axis=1).values\n",
    "Y = dataset['label'].values"
   ]
  },
  {
   "cell_type": "code",
   "execution_count": 10,
   "id": "10dca0b7",
   "metadata": {},
   "outputs": [],
   "source": [
    "X_Train, X_Test, Y_Train, Y_Test = train_test_split(X, Y, test_size = 0.25, random_state = 0)"
   ]
  },
  {
   "cell_type": "code",
   "execution_count": 11,
   "id": "fd594a1f",
   "metadata": {},
   "outputs": [
    {
     "data": {
      "text/plain": [
       "RandomForestClassifier()"
      ]
     },
     "execution_count": 11,
     "metadata": {},
     "output_type": "execute_result"
    }
   ],
   "source": [
    "model = RandomForestClassifier()\n",
    "model.fit(X_Train,Y_Train)"
   ]
  },
  {
   "cell_type": "code",
   "execution_count": 12,
   "id": "6be264bb",
   "metadata": {},
   "outputs": [],
   "source": [
    "RF_accuracy = model.score(X_Test,Y_Test)"
   ]
  },
  {
   "cell_type": "code",
   "execution_count": 13,
   "id": "861fce94",
   "metadata": {},
   "outputs": [
    {
     "data": {
      "text/plain": [
       "95.82"
      ]
     },
     "execution_count": 13,
     "metadata": {},
     "output_type": "execute_result"
    }
   ],
   "source": [
    "round(RF_accuracy * 100 , 2)  "
   ]
  },
  {
   "cell_type": "code",
   "execution_count": 14,
   "id": "2dc4b870",
   "metadata": {},
   "outputs": [],
   "source": [
    "def predict(model,temperature, humidity,ph,rainfal):\n",
    "    try:\n",
    "        return model.predict_proba([[temperature,humidity,ph,rainfal]])\n",
    "    except:\n",
    "        print(\"Error in prediction process\")\n",
    "        return False"
   ]
  },
  {
   "cell_type": "code",
   "execution_count": 15,
   "id": "65781ce7",
   "metadata": {},
   "outputs": [],
   "source": [
    "def prediction_as_list(model , prediction):\n",
    "    j = 0\n",
    "    result = []\n",
    "    for i in prediction[0]:\n",
    "        result.append([ model.classes_[j] , int(i * 100) ])\n",
    "        j+=1\n",
    "    return result"
   ]
  },
  {
   "cell_type": "code",
   "execution_count": 16,
   "id": "0d154c54",
   "metadata": {},
   "outputs": [
    {
     "data": {
      "text/plain": [
       "[['apple', 0],\n",
       " ['banana', 0],\n",
       " ['blackgram', 0],\n",
       " ['chickpea', 0],\n",
       " ['coconut', 0],\n",
       " ['coffee', 100],\n",
       " ['cotton', 0],\n",
       " ['grapes', 0],\n",
       " ['jute', 0],\n",
       " ['kidneybeans', 0],\n",
       " ['lentil', 0],\n",
       " ['maize', 0],\n",
       " ['mango', 0],\n",
       " ['mothbeans', 0],\n",
       " ['mungbean', 0],\n",
       " ['muskmelon', 0],\n",
       " ['orange', 0],\n",
       " ['papaya', 0],\n",
       " ['pigeonpeas', 0],\n",
       " ['pomegranate', 0],\n",
       " ['rice', 0],\n",
       " ['watermelon', 0]]"
      ]
     },
     "execution_count": 16,
     "metadata": {},
     "output_type": "execute_result"
    }
   ],
   "source": [
    "prediction_as_list( model , predict(model,27.35,55.99,7.13,148) )"
   ]
  },
  {
   "cell_type": "code",
   "execution_count": 17,
   "id": "37cc5516",
   "metadata": {},
   "outputs": [],
   "source": [
    "# Save Model\n",
    "pickle.dump(model, open(\"crop_suggestion_model.sav\", 'wb'))"
   ]
  }
 ],
 "metadata": {
  "kernelspec": {
   "display_name": "Python 3",
   "language": "python",
   "name": "python3"
  },
  "language_info": {
   "codemirror_mode": {
    "name": "ipython",
    "version": 3
   },
   "file_extension": ".py",
   "mimetype": "text/x-python",
   "name": "python",
   "nbconvert_exporter": "python",
   "pygments_lexer": "ipython3",
   "version": "3.8.8"
  }
 },
 "nbformat": 4,
 "nbformat_minor": 5
}
